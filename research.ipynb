{
 "cells": [
  {
   "cell_type": "code",
   "execution_count": 3,
   "metadata": {},
   "outputs": [],
   "source": [
    "from datetime import datetime"
   ]
  },
  {
   "cell_type": "code",
   "execution_count": 7,
   "metadata": {},
   "outputs": [
    {
     "data": {
      "text/plain": [
       "'24-01-25-10-21-52'"
      ]
     },
     "execution_count": 7,
     "metadata": {},
     "output_type": "execute_result"
    }
   ],
   "source": [
    "datetime.now().strftime(\"%d-%m-%y-%H-%M-%S\")"
   ]
  },
  {
   "cell_type": "code",
   "execution_count": 35,
   "metadata": {},
   "outputs": [
    {
     "name": "stderr",
     "output_type": "stream",
     "text": [
      "2025-01-24 10:59:28,040 - DEBUG - This is a debug message\n",
      "2025-01-24 10:59:28,041 - INFO - This is an info message\n",
      "2025-01-24 10:59:28,043 - WARNING - This is a warning message\n",
      "2025-01-24 10:59:28,044 - ERROR - This is an error message\n",
      "2025-01-24 10:59:28,047 - CRITICAL - This is a critical message\n"
     ]
    }
   ],
   "source": [
    "import logging\n",
    "\n",
    "# Basic configuration\n",
    "logging.basicConfig(level=logging.DEBUG)\n",
    "\n",
    "# Logging messages\n",
    "logging.debug(\"This is a debug message\")\n",
    "logging.info(\"This is an info message\")\n",
    "logging.warning(\"This is a warning message\")\n",
    "logging.error(\"This is an error message\")\n",
    "logging.critical(\"This is a critical message\")\n"
   ]
  },
  {
   "cell_type": "code",
   "execution_count": 21,
   "metadata": {},
   "outputs": [
    {
     "name": "stdout",
     "output_type": "stream",
     "text": [
      "<class 'ZeroDivisionError'>\n",
      "division by zero\n",
      "<traceback object at 0x0000018E7EFA1200>\n"
     ]
    }
   ],
   "source": [
    "import sys \n",
    "try:\n",
    "    10/0\n",
    "except Exception as e:\n",
    "    er_cls,er_mess,tab = sys.exc_info()\n",
    "    print(er_cls)\n",
    "\n",
    "    print(er_mess)\n",
    "    print(tab)"
   ]
  },
  {
   "cell_type": "code",
   "execution_count": 32,
   "metadata": {},
   "outputs": [
    {
     "name": "stdout",
     "output_type": "stream",
     "text": [
      "insurance_logs\\24-01-25 10-53-54.log\n"
     ]
    }
   ],
   "source": [
    "import logging,os \n",
    "from datetime import datetime\n",
    "\n",
    "dir_name = \"insurance_logs\"\n",
    "# os.makedirs(dir_name,exist_ok=True)\n",
    "\n",
    "time_stamp = datetime.now().strftime(\"%d-%m-%y %H-%M-%S\")\n",
    "file_name = time_stamp + \".log\"\n",
    "log_file_path = os.path.join(dir_name,file_name)\n",
    "print(log_file_path)\n",
    "\n"
   ]
  },
  {
   "cell_type": "code",
   "execution_count": 37,
   "metadata": {},
   "outputs": [],
   "source": [
    "import logging,os \n",
    "from datetime import datetime\n",
    "\n",
    "dir_name = \"insurance_logs\"\n",
    "os.makedirs(dir_name,exist_ok=True)\n",
    "\n",
    "time_stamp = datetime.now().strftime(\"%d-%m-%y %H-%M-%S\")\n",
    "file_name = time_stamp + \".log\"\n",
    "log_file_path = os.path.join(dir_name,file_name)\n",
    "\n",
    "logging.basicConfig(filename=log_file_path,filemode='w',level=logging.DEBUG,format='%(asctime)s - %(levelname)s - %(message)s')"
   ]
  },
  {
   "cell_type": "code",
   "execution_count": null,
   "metadata": {},
   "outputs": [],
   "source": []
  },
  {
   "cell_type": "code",
   "execution_count": 38,
   "metadata": {},
   "outputs": [
    {
     "name": "stderr",
     "output_type": "stream",
     "text": [
      "2025-01-24 11:04:34,705 - INFO - hii this is ranjit\n"
     ]
    }
   ],
   "source": [
    "logging.info('hii this is ranjit')"
   ]
  },
  {
   "cell_type": "code",
   "execution_count": 75,
   "metadata": {},
   "outputs": [],
   "source": [
    "# exception file. to control execution of our program\n",
    "import sys\n",
    "\n",
    "class InsuranceException(Exception):\n",
    "    def __init__(self, error_message:Exception, error_detail:sys):\n",
    "        super().__init__(error_message)\n",
    "        self.error_message = InsuranceException.error_message_detail(error_message,error_detail=error_detail)\n",
    "    \n",
    "    @staticmethod\n",
    "    def error_message_detail(error:Exception, error_detail:sys)->str:\n",
    "        error_class,error_mesage,exc_tb = error_detail.exc_info()\n",
    "        line_number = exc_tb.tb_frame.f_lineno  # to get line number\n",
    "        file_name = exc_tb.tb_frame.f_code.co_filename\n",
    "        # formating of error message\n",
    "        error_message = f\"error occured in this {file_name} file, at the line no. [{line_number}], Error message :- [{error_mesage}]\"\n",
    "        return error_message\n",
    "    \n",
    "    def __str__(self):\n",
    "        return InsuranceException.__name__.__str__()"
   ]
  },
  {
   "cell_type": "code",
   "execution_count": 76,
   "metadata": {},
   "outputs": [
    {
     "name": "stdout",
     "output_type": "stream",
     "text": [
      "InsuranceException\n"
     ]
    }
   ],
   "source": [
    "try:\n",
    "    10/0 \n",
    "except Exception as e:\n",
    "\n",
    "    stre = InsuranceException(e,sys)\n",
    "    print(stre)"
   ]
  },
  {
   "cell_type": "code",
   "execution_count": 77,
   "metadata": {},
   "outputs": [
    {
     "name": "stdout",
     "output_type": "stream",
     "text": [
      "hiii therer\n"
     ]
    }
   ],
   "source": [
    "class Ta:\n",
    "    pass \n",
    "    def __str__(self):\n",
    "        return \"hiii therer\"\n",
    "\n",
    "obj = Ta()\n",
    "print(obj)"
   ]
  },
  {
   "cell_type": "code",
   "execution_count": 79,
   "metadata": {},
   "outputs": [
    {
     "data": {
      "text/plain": [
       "'Ta'"
      ]
     },
     "execution_count": 79,
     "metadata": {},
     "output_type": "execute_result"
    }
   ],
   "source": [
    "Ta.__name__.__str__()"
   ]
  },
  {
   "cell_type": "code",
   "execution_count": 62,
   "metadata": {},
   "outputs": [
    {
     "ename": "TypeError",
     "evalue": "Ta.__str__() takes 0 positional arguments but 1 was given",
     "output_type": "error",
     "traceback": [
      "\u001b[1;31m---------------------------------------------------------------------------\u001b[0m",
      "\u001b[1;31mTypeError\u001b[0m                                 Traceback (most recent call last)",
      "Cell \u001b[1;32mIn[62], line 1\u001b[0m\n\u001b[1;32m----> 1\u001b[0m \u001b[38;5;28;43mprint\u001b[39;49m\u001b[43m(\u001b[49m\u001b[43mTa\u001b[49m\u001b[43m(\u001b[49m\u001b[43m)\u001b[49m\u001b[43m)\u001b[49m\n",
      "\u001b[1;31mTypeError\u001b[0m: Ta.__str__() takes 0 positional arguments but 1 was given"
     ]
    }
   ],
   "source": [
    "print(Ta())"
   ]
  },
  {
   "cell_type": "code",
   "execution_count": 51,
   "metadata": {},
   "outputs": [
    {
     "name": "stdout",
     "output_type": "stream",
     "text": [
      "<class '__main__.Ta'>\n"
     ]
    }
   ],
   "source": [
    "print(Ta) "
   ]
  },
  {
   "cell_type": "code",
   "execution_count": 45,
   "metadata": {},
   "outputs": [
    {
     "name": "stdout",
     "output_type": "stream",
     "text": [
      "<class 'ZeroDivisionError'>\n",
      "division by zero\n",
      "<traceback object at 0x0000018E7EF47280>\n",
      "\n",
      "10\n",
      "C:\\Users\\Ranjit\\AppData\\Local\\Temp\\ipykernel_9212\\752372585.py\n"
     ]
    }
   ],
   "source": [
    "import sys \n",
    "try:\n",
    "    10/0 \n",
    "except Exception as e:\n",
    "    error_class,error_mesage,exc_tb = sys.exc_info()\n",
    "    print(error_class)\n",
    "    print(error_mesage)\n",
    "    print(exc_tb)\n",
    "    print()\n",
    "    line_number = exc_tb.tb_frame.f_lineno  # to get line number \n",
    "    file_name = exc_tb.tb_frame.f_code.co_filename\n",
    "    print(line_number)   \n",
    "    print(file_name)"
   ]
  },
  {
   "cell_type": "code",
   "execution_count": 2,
   "metadata": {},
   "outputs": [],
   "source": [
    "import os \n",
    "from pymongo import  MongoClient\n",
    "def connect_to_mongodb(mongodb_connection_string:str):\n",
    "    try:\n",
    "        client = MongoClient(mongodb_connection_string) \n",
    "        print(\"successfully connected with mongodb\")\n",
    "        return client \n",
    "    except Exception as e: \n",
    "        custom_exception = InsuranceException(e,sys)\n",
    "        logging.error(f'Unable to connect with mongodb : {custom_exception.error_message}')\n",
    "        raise InsuranceException(e,sys)\n",
    "        return None \n"
   ]
  },
  {
   "cell_type": "code",
   "execution_count": 12,
   "metadata": {},
   "outputs": [
    {
     "name": "stdout",
     "output_type": "stream",
     "text": [
      "successfully connected with mongodb\n"
     ]
    }
   ],
   "source": [
    "client = connect_to_mongodb(os.getenv(\"mongodb_connection_string\"))"
   ]
  },
  {
   "cell_type": "code",
   "execution_count": 13,
   "metadata": {},
   "outputs": [],
   "source": [
    "colctn = client[\"mlproject_database\"][\"ml_collection\"]"
   ]
  },
  {
   "cell_type": "code",
   "execution_count": 14,
   "metadata": {},
   "outputs": [],
   "source": [
    "import pandas as pd "
   ]
  },
  {
   "cell_type": "code",
   "execution_count": 16,
   "metadata": {},
   "outputs": [],
   "source": [
    "df = pd.DataFrame(list(colctn.find()))"
   ]
  },
  {
   "cell_type": "code",
   "execution_count": 19,
   "metadata": {},
   "outputs": [],
   "source": [
    "from sklearn.model_selection import train_test_split"
   ]
  },
  {
   "cell_type": "code",
   "execution_count": 20,
   "metadata": {},
   "outputs": [],
   "source": [
    "train_df , test_df = train_test_split(df,test_size=0.2)"
   ]
  },
  {
   "cell_type": "code",
   "execution_count": 22,
   "metadata": {},
   "outputs": [
    {
     "data": {
      "text/html": [
       "<div>\n",
       "<style scoped>\n",
       "    .dataframe tbody tr th:only-of-type {\n",
       "        vertical-align: middle;\n",
       "    }\n",
       "\n",
       "    .dataframe tbody tr th {\n",
       "        vertical-align: top;\n",
       "    }\n",
       "\n",
       "    .dataframe thead th {\n",
       "        text-align: right;\n",
       "    }\n",
       "</style>\n",
       "<table border=\"1\" class=\"dataframe\">\n",
       "  <thead>\n",
       "    <tr style=\"text-align: right;\">\n",
       "      <th></th>\n",
       "      <th>_id</th>\n",
       "      <th>sex</th>\n",
       "      <th>bmi</th>\n",
       "      <th>children</th>\n",
       "      <th>smoker</th>\n",
       "      <th>region</th>\n",
       "      <th>charges</th>\n",
       "    </tr>\n",
       "  </thead>\n",
       "  <tbody>\n",
       "    <tr>\n",
       "      <th>495</th>\n",
       "      <td>67946cb763c519983f7e99e7</td>\n",
       "      <td>female</td>\n",
       "      <td>23.180</td>\n",
       "      <td>2</td>\n",
       "      <td>no</td>\n",
       "      <td>northwest</td>\n",
       "      <td>14426.07385</td>\n",
       "    </tr>\n",
       "    <tr>\n",
       "      <th>89</th>\n",
       "      <td>67946cb763c519983f7e99d6</td>\n",
       "      <td>male</td>\n",
       "      <td>37.070</td>\n",
       "      <td>1</td>\n",
       "      <td>no</td>\n",
       "      <td>southeast</td>\n",
       "      <td>9048.02730</td>\n",
       "    </tr>\n",
       "    <tr>\n",
       "      <th>426</th>\n",
       "      <td>67946cb763c519983f7e99ee</td>\n",
       "      <td>female</td>\n",
       "      <td>28.310</td>\n",
       "      <td>1</td>\n",
       "      <td>no</td>\n",
       "      <td>northwest</td>\n",
       "      <td>7153.55390</td>\n",
       "    </tr>\n",
       "    <tr>\n",
       "      <th>108</th>\n",
       "      <td>67946cb763c519983f7e98fd</td>\n",
       "      <td>male</td>\n",
       "      <td>35.815</td>\n",
       "      <td>0</td>\n",
       "      <td>no</td>\n",
       "      <td>northwest</td>\n",
       "      <td>4320.41085</td>\n",
       "    </tr>\n",
       "    <tr>\n",
       "      <th>138</th>\n",
       "      <td>67946cb763c519983f7e98a9</td>\n",
       "      <td>female</td>\n",
       "      <td>31.350</td>\n",
       "      <td>0</td>\n",
       "      <td>no</td>\n",
       "      <td>northwest</td>\n",
       "      <td>12622.17950</td>\n",
       "    </tr>\n",
       "    <tr>\n",
       "      <th>...</th>\n",
       "      <td>...</td>\n",
       "      <td>...</td>\n",
       "      <td>...</td>\n",
       "      <td>...</td>\n",
       "      <td>...</td>\n",
       "      <td>...</td>\n",
       "      <td>...</td>\n",
       "    </tr>\n",
       "    <tr>\n",
       "      <th>318</th>\n",
       "      <td>67946cb763c519983f7e98ab</td>\n",
       "      <td>male</td>\n",
       "      <td>24.700</td>\n",
       "      <td>0</td>\n",
       "      <td>no</td>\n",
       "      <td>northeast</td>\n",
       "      <td>12323.93600</td>\n",
       "    </tr>\n",
       "    <tr>\n",
       "      <th>348</th>\n",
       "      <td>67946cb763c519983f7e98c1</td>\n",
       "      <td>female</td>\n",
       "      <td>19.855</td>\n",
       "      <td>0</td>\n",
       "      <td>no</td>\n",
       "      <td>northeast</td>\n",
       "      <td>5458.04645</td>\n",
       "    </tr>\n",
       "    <tr>\n",
       "      <th>360</th>\n",
       "      <td>67946cb763c519983f7e9964</td>\n",
       "      <td>male</td>\n",
       "      <td>26.030</td>\n",
       "      <td>1</td>\n",
       "      <td>yes</td>\n",
       "      <td>northwest</td>\n",
       "      <td>16450.89470</td>\n",
       "    </tr>\n",
       "    <tr>\n",
       "      <th>157</th>\n",
       "      <td>67946cb763c519983f7e99cb</td>\n",
       "      <td>female</td>\n",
       "      <td>18.600</td>\n",
       "      <td>0</td>\n",
       "      <td>no</td>\n",
       "      <td>southwest</td>\n",
       "      <td>1728.89700</td>\n",
       "    </tr>\n",
       "    <tr>\n",
       "      <th>385</th>\n",
       "      <td>67946cb763c519983f7e9913</td>\n",
       "      <td>female</td>\n",
       "      <td>35.800</td>\n",
       "      <td>1</td>\n",
       "      <td>no</td>\n",
       "      <td>southwest</td>\n",
       "      <td>11674.13000</td>\n",
       "    </tr>\n",
       "  </tbody>\n",
       "</table>\n",
       "<p>134 rows × 7 columns</p>\n",
       "</div>"
      ],
      "text/plain": [
       "                          _id     sex     bmi  children smoker     region  \\\n",
       "495  67946cb763c519983f7e99e7  female  23.180         2     no  northwest   \n",
       "89   67946cb763c519983f7e99d6    male  37.070         1     no  southeast   \n",
       "426  67946cb763c519983f7e99ee  female  28.310         1     no  northwest   \n",
       "108  67946cb763c519983f7e98fd    male  35.815         0     no  northwest   \n",
       "138  67946cb763c519983f7e98a9  female  31.350         0     no  northwest   \n",
       "..                        ...     ...     ...       ...    ...        ...   \n",
       "318  67946cb763c519983f7e98ab    male  24.700         0     no  northeast   \n",
       "348  67946cb763c519983f7e98c1  female  19.855         0     no  northeast   \n",
       "360  67946cb763c519983f7e9964    male  26.030         1    yes  northwest   \n",
       "157  67946cb763c519983f7e99cb  female  18.600         0     no  southwest   \n",
       "385  67946cb763c519983f7e9913  female  35.800         1     no  southwest   \n",
       "\n",
       "         charges  \n",
       "495  14426.07385  \n",
       "89    9048.02730  \n",
       "426   7153.55390  \n",
       "108   4320.41085  \n",
       "138  12622.17950  \n",
       "..           ...  \n",
       "318  12323.93600  \n",
       "348   5458.04645  \n",
       "360  16450.89470  \n",
       "157   1728.89700  \n",
       "385  11674.13000  \n",
       "\n",
       "[134 rows x 7 columns]"
      ]
     },
     "execution_count": 22,
     "metadata": {},
     "output_type": "execute_result"
    }
   ],
   "source": [
    "test_df"
   ]
  },
  {
   "cell_type": "code",
   "execution_count": 23,
   "metadata": {},
   "outputs": [],
   "source": [
    "class Student:\n",
    "    def __init__(self):\n",
    "        self.var1 = 100 \n",
    "        self.var2  = 200 "
   ]
  },
  {
   "cell_type": "code",
   "execution_count": 24,
   "metadata": {},
   "outputs": [
    {
     "data": {
      "text/plain": [
       "100"
      ]
     },
     "execution_count": 24,
     "metadata": {},
     "output_type": "execute_result"
    }
   ],
   "source": [
    "obj = Student()\n",
    "obj.var1"
   ]
  },
  {
   "cell_type": "code",
   "execution_count": 31,
   "metadata": {},
   "outputs": [],
   "source": [
    "from dataclasses import dataclass \n",
    "\n",
    "@dataclass\n",
    "class College:\n",
    "    College_name:str \n",
    "    College_city:str"
   ]
  },
  {
   "cell_type": "code",
   "execution_count": 32,
   "metadata": {},
   "outputs": [
    {
     "ename": "TypeError",
     "evalue": "College.__init__() missing 2 required positional arguments: 'College_name' and 'College_city'",
     "output_type": "error",
     "traceback": [
      "\u001b[1;31m---------------------------------------------------------------------------\u001b[0m",
      "\u001b[1;31mTypeError\u001b[0m                                 Traceback (most recent call last)",
      "Cell \u001b[1;32mIn[32], line 1\u001b[0m\n\u001b[1;32m----> 1\u001b[0m obj \u001b[38;5;241m=\u001b[39m \u001b[43mCollege\u001b[49m\u001b[43m(\u001b[49m\u001b[43m)\u001b[49m \n\u001b[0;32m      2\u001b[0m obj\u001b[38;5;241m.\u001b[39mCollege_city\n",
      "\u001b[1;31mTypeError\u001b[0m: College.__init__() missing 2 required positional arguments: 'College_name' and 'College_city'"
     ]
    }
   ],
   "source": [
    "obj = College() \n",
    "obj.College_city"
   ]
  }
 ],
 "metadata": {
  "kernelspec": {
   "display_name": "Python 3",
   "language": "python",
   "name": "python3"
  },
  "language_info": {
   "codemirror_mode": {
    "name": "ipython",
    "version": 3
   },
   "file_extension": ".py",
   "mimetype": "text/x-python",
   "name": "python",
   "nbconvert_exporter": "python",
   "pygments_lexer": "ipython3",
   "version": "3.12.4"
  }
 },
 "nbformat": 4,
 "nbformat_minor": 2
}
