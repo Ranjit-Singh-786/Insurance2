{
 "cells": [
  {
   "cell_type": "code",
   "execution_count": 3,
   "metadata": {},
   "outputs": [],
   "source": [
    "from datetime import datetime"
   ]
  },
  {
   "cell_type": "code",
   "execution_count": 7,
   "metadata": {},
   "outputs": [
    {
     "data": {
      "text/plain": [
       "'24-01-25-10-21-52'"
      ]
     },
     "execution_count": 7,
     "metadata": {},
     "output_type": "execute_result"
    }
   ],
   "source": [
    "datetime.now().strftime(\"%d-%m-%y-%H-%M-%S\")"
   ]
  },
  {
   "cell_type": "code",
   "execution_count": 35,
   "metadata": {},
   "outputs": [
    {
     "name": "stderr",
     "output_type": "stream",
     "text": [
      "2025-01-24 10:59:28,040 - DEBUG - This is a debug message\n",
      "2025-01-24 10:59:28,041 - INFO - This is an info message\n",
      "2025-01-24 10:59:28,043 - WARNING - This is a warning message\n",
      "2025-01-24 10:59:28,044 - ERROR - This is an error message\n",
      "2025-01-24 10:59:28,047 - CRITICAL - This is a critical message\n"
     ]
    }
   ],
   "source": [
    "import logging\n",
    "\n",
    "# Basic configuration\n",
    "logging.basicConfig(level=logging.DEBUG)\n",
    "\n",
    "# Logging messages\n",
    "logging.debug(\"This is a debug message\")\n",
    "logging.info(\"This is an info message\")\n",
    "logging.warning(\"This is a warning message\")\n",
    "logging.error(\"This is an error message\")\n",
    "logging.critical(\"This is a critical message\")\n"
   ]
  },
  {
   "cell_type": "code",
   "execution_count": 21,
   "metadata": {},
   "outputs": [
    {
     "name": "stdout",
     "output_type": "stream",
     "text": [
      "<class 'ZeroDivisionError'>\n",
      "division by zero\n",
      "<traceback object at 0x0000018E7EFA1200>\n"
     ]
    }
   ],
   "source": [
    "import sys \n",
    "try:\n",
    "    10/0\n",
    "except Exception as e:\n",
    "    er_cls,er_mess,tab = sys.exc_info()\n",
    "    print(er_cls)\n",
    "\n",
    "    print(er_mess)\n",
    "    print(tab)"
   ]
  },
  {
   "cell_type": "code",
   "execution_count": 32,
   "metadata": {},
   "outputs": [
    {
     "name": "stdout",
     "output_type": "stream",
     "text": [
      "insurance_logs\\24-01-25 10-53-54.log\n"
     ]
    }
   ],
   "source": [
    "import logging,os \n",
    "from datetime import datetime\n",
    "\n",
    "dir_name = \"insurance_logs\"\n",
    "# os.makedirs(dir_name,exist_ok=True)\n",
    "\n",
    "time_stamp = datetime.now().strftime(\"%d-%m-%y %H-%M-%S\")\n",
    "file_name = time_stamp + \".log\"\n",
    "log_file_path = os.path.join(dir_name,file_name)\n",
    "print(log_file_path)\n",
    "\n"
   ]
  },
  {
   "cell_type": "code",
   "execution_count": 37,
   "metadata": {},
   "outputs": [],
   "source": [
    "import logging,os \n",
    "from datetime import datetime\n",
    "\n",
    "dir_name = \"insurance_logs\"\n",
    "os.makedirs(dir_name,exist_ok=True)\n",
    "\n",
    "time_stamp = datetime.now().strftime(\"%d-%m-%y %H-%M-%S\")\n",
    "file_name = time_stamp + \".log\"\n",
    "log_file_path = os.path.join(dir_name,file_name)\n",
    "\n",
    "logging.basicConfig(filename=log_file_path,filemode='w',level=logging.DEBUG,format='%(asctime)s - %(levelname)s - %(message)s')"
   ]
  },
  {
   "cell_type": "code",
   "execution_count": null,
   "metadata": {},
   "outputs": [],
   "source": []
  },
  {
   "cell_type": "code",
   "execution_count": 38,
   "metadata": {},
   "outputs": [
    {
     "name": "stderr",
     "output_type": "stream",
     "text": [
      "2025-01-24 11:04:34,705 - INFO - hii this is ranjit\n"
     ]
    }
   ],
   "source": [
    "logging.info('hii this is ranjit')"
   ]
  },
  {
   "cell_type": "code",
   "execution_count": 75,
   "metadata": {},
   "outputs": [],
   "source": [
    "# exception file. to control execution of our program\n",
    "import sys\n",
    "\n",
    "class InsuranceException(Exception):\n",
    "    def __init__(self, error_message:Exception, error_detail:sys):\n",
    "        super().__init__(error_message)\n",
    "        self.error_message = InsuranceException.error_message_detail(error_message,error_detail=error_detail)\n",
    "    \n",
    "    @staticmethod\n",
    "    def error_message_detail(error:Exception, error_detail:sys)->str:\n",
    "        error_class,error_mesage,exc_tb = error_detail.exc_info()\n",
    "        line_number = exc_tb.tb_frame.f_lineno  # to get line number\n",
    "        file_name = exc_tb.tb_frame.f_code.co_filename\n",
    "        # formating of error message\n",
    "        error_message = f\"error occured in this {file_name} file, at the line no. [{line_number}], Error message :- [{error_mesage}]\"\n",
    "        return error_message\n",
    "    \n",
    "    def __str__(self):\n",
    "        return InsuranceException.__name__.__str__()"
   ]
  },
  {
   "cell_type": "code",
   "execution_count": 76,
   "metadata": {},
   "outputs": [
    {
     "name": "stdout",
     "output_type": "stream",
     "text": [
      "InsuranceException\n"
     ]
    }
   ],
   "source": [
    "try:\n",
    "    10/0 \n",
    "except Exception as e:\n",
    "\n",
    "    stre = InsuranceException(e,sys)\n",
    "    print(stre)"
   ]
  },
  {
   "cell_type": "code",
   "execution_count": 77,
   "metadata": {},
   "outputs": [
    {
     "name": "stdout",
     "output_type": "stream",
     "text": [
      "hiii therer\n"
     ]
    }
   ],
   "source": [
    "class Ta:\n",
    "    pass \n",
    "    def __str__(self):\n",
    "        return \"hiii therer\"\n",
    "\n",
    "obj = Ta()\n",
    "print(obj)"
   ]
  },
  {
   "cell_type": "code",
   "execution_count": 79,
   "metadata": {},
   "outputs": [
    {
     "data": {
      "text/plain": [
       "'Ta'"
      ]
     },
     "execution_count": 79,
     "metadata": {},
     "output_type": "execute_result"
    }
   ],
   "source": [
    "Ta.__name__.__str__()"
   ]
  },
  {
   "cell_type": "code",
   "execution_count": 62,
   "metadata": {},
   "outputs": [
    {
     "ename": "TypeError",
     "evalue": "Ta.__str__() takes 0 positional arguments but 1 was given",
     "output_type": "error",
     "traceback": [
      "\u001b[1;31m---------------------------------------------------------------------------\u001b[0m",
      "\u001b[1;31mTypeError\u001b[0m                                 Traceback (most recent call last)",
      "Cell \u001b[1;32mIn[62], line 1\u001b[0m\n\u001b[1;32m----> 1\u001b[0m \u001b[38;5;28;43mprint\u001b[39;49m\u001b[43m(\u001b[49m\u001b[43mTa\u001b[49m\u001b[43m(\u001b[49m\u001b[43m)\u001b[49m\u001b[43m)\u001b[49m\n",
      "\u001b[1;31mTypeError\u001b[0m: Ta.__str__() takes 0 positional arguments but 1 was given"
     ]
    }
   ],
   "source": [
    "print(Ta())"
   ]
  },
  {
   "cell_type": "code",
   "execution_count": 51,
   "metadata": {},
   "outputs": [
    {
     "name": "stdout",
     "output_type": "stream",
     "text": [
      "<class '__main__.Ta'>\n"
     ]
    }
   ],
   "source": [
    "print(Ta) "
   ]
  },
  {
   "cell_type": "code",
   "execution_count": 45,
   "metadata": {},
   "outputs": [
    {
     "name": "stdout",
     "output_type": "stream",
     "text": [
      "<class 'ZeroDivisionError'>\n",
      "division by zero\n",
      "<traceback object at 0x0000018E7EF47280>\n",
      "\n",
      "10\n",
      "C:\\Users\\Ranjit\\AppData\\Local\\Temp\\ipykernel_9212\\752372585.py\n"
     ]
    }
   ],
   "source": [
    "import sys \n",
    "try:\n",
    "    10/0 \n",
    "except Exception as e:\n",
    "    error_class,error_mesage,exc_tb = sys.exc_info()\n",
    "    print(error_class)\n",
    "    print(error_mesage)\n",
    "    print(exc_tb)\n",
    "    print()\n",
    "    line_number = exc_tb.tb_frame.f_lineno  # to get line number \n",
    "    file_name = exc_tb.tb_frame.f_code.co_filename\n",
    "    print(line_number)   \n",
    "    print(file_name)"
   ]
  },
  {
   "cell_type": "code",
   "execution_count": null,
   "metadata": {},
   "outputs": [],
   "source": []
  },
  {
   "cell_type": "code",
   "execution_count": null,
   "metadata": {},
   "outputs": [],
   "source": []
  },
  {
   "cell_type": "code",
   "execution_count": null,
   "metadata": {},
   "outputs": [],
   "source": []
  },
  {
   "cell_type": "code",
   "execution_count": null,
   "metadata": {},
   "outputs": [],
   "source": []
  }
 ],
 "metadata": {
  "kernelspec": {
   "display_name": "Python 3",
   "language": "python",
   "name": "python3"
  },
  "language_info": {
   "codemirror_mode": {
    "name": "ipython",
    "version": 3
   },
   "file_extension": ".py",
   "mimetype": "text/x-python",
   "name": "python",
   "nbconvert_exporter": "python",
   "pygments_lexer": "ipython3",
   "version": "3.12.4"
  }
 },
 "nbformat": 4,
 "nbformat_minor": 2
}
